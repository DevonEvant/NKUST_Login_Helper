{
 "cells": [
  {
   "cell_type": "code",
   "execution_count": 2,
   "metadata": {},
   "outputs": [],
   "source": [
    "%matplotlib inline\n",
    "\n",
    "import numpy as np\n",
    "import tensorflow as tf\n",
    "from tensorflow import keras\n",
    "from keras import layers\n",
    "from keras import models\n",
    "from keras import losses\n",
    "\n",
    "from IPython.display import Image\n",
    "from IPython.core.display import HTML \n",
    "\n",
    "import matplotlib\n",
    "from matplotlib import pyplot as plt"
   ]
  },
  {
   "cell_type": "code",
   "execution_count": 3,
   "metadata": {},
   "outputs": [],
   "source": [
    "(x_train, y_train), (x_test, y_test) = tf.keras.datasets.mnist.load_data()"
   ]
  },
  {
   "cell_type": "code",
   "execution_count": 4,
   "metadata": {},
   "outputs": [
    {
     "data": {
      "image/png": "[encoded data removed]",
      "text/plain": [
       "<Figure size 288x288 with 1 Axes>"
      ]
     },
     "metadata": {
      "needs_background": "light"
     },
     "output_type": "display_data"
    }
   ],
   "source": [
    "def imgPrint(sensor2d, title:str):\n",
    "    \n",
    "    plt.matshow(sensor2d,cmap=plt.get_cmap('gray'))\n",
    "    if title:\n",
    "        plt.title(title)\n",
    "    plt.show()\n",
    "\n",
    "imgPrint(x_train[0],y_train[0])"
   ]
  },
  {
   "cell_type": "code",
   "execution_count": 5,
   "metadata": {},
   "outputs": [
    {
     "name": "stdout",
     "output_type": "stream",
     "text": [
      "(60000, 28, 28)\n"
     ]
    }
   ],
   "source": [
    "print(np.shape(x_train))\n"
   ]
  },
  {
   "cell_type": "code",
   "execution_count": 6,
   "metadata": {},
   "outputs": [],
   "source": [
    "model = models.Sequential([\n",
    "    layers.Flatten(input_shape = (28,28)),\n",
    "    layers.Dense(256,activation=\"sigmoid\"),\n",
    "    layers.Dense(128,activation=\"sigmoid\"),\n",
    "    layers.Dense(10,activation=\"softmax\")\n",
    "])"
   ]
  },
  {
   "cell_type": "code",
   "execution_count": 16,
   "metadata": {},
   "outputs": [],
   "source": [
    "model.compile(\n",
    "    optimizer='adam',\n",
    "    loss='sparse_categorical_crossentropy',\n",
    "    metrics=['accuracy']\n",
    ")"
   ]
  },
  {
   "cell_type": "code",
   "execution_count": 22,
   "metadata": {},
   "outputs": [
    {
     "name": "stdout",
     "output_type": "stream",
     "text": [
      "Epoch 1/25\n",
      "30/30 [==============================] - 1s 28ms/step - loss: 0.0717 - accuracy: 0.9795\n",
      "Epoch 2/25\n",
      "30/30 [==============================] - 1s 40ms/step - loss: 0.0733 - accuracy: 0.9784\n",
      "Epoch 3/25\n",
      "30/30 [==============================] - 1s 34ms/step - loss: 0.0744 - accuracy: 0.9779\n",
      "Epoch 4/25\n",
      "30/30 [==============================] - 1s 42ms/step - loss: 0.0755 - accuracy: 0.9776\n",
      "Epoch 5/25\n",
      "30/30 [==============================] - 1s 32ms/step - loss: 0.0750 - accuracy: 0.9775\n",
      "Epoch 6/25\n",
      "30/30 [==============================] - 1s 37ms/step - loss: 0.0745 - accuracy: 0.9772\n",
      "Epoch 7/25\n",
      "30/30 [==============================] - 1s 34ms/step - loss: 0.0719 - accuracy: 0.9779\n",
      "Epoch 8/25\n",
      "30/30 [==============================] - 1s 33ms/step - loss: 0.0687 - accuracy: 0.9794\n",
      "Epoch 9/25\n",
      "30/30 [==============================] - 1s 35ms/step - loss: 0.0661 - accuracy: 0.9798\n",
      "Epoch 10/25\n",
      "30/30 [==============================] - 1s 37ms/step - loss: 0.0673 - accuracy: 0.9790\n",
      "Epoch 11/25\n",
      "30/30 [==============================] - 1s 32ms/step - loss: 0.0639 - accuracy: 0.9811\n",
      "Epoch 12/25\n",
      "30/30 [==============================] - 1s 32ms/step - loss: 0.0648 - accuracy: 0.9805\n",
      "Epoch 13/25\n",
      "30/30 [==============================] - 1s 31ms/step - loss: 0.0612 - accuracy: 0.9818\n",
      "Epoch 14/25\n",
      "30/30 [==============================] - 1s 34ms/step - loss: 0.0623 - accuracy: 0.9812\n",
      "Epoch 15/25\n",
      "30/30 [==============================] - 1s 33ms/step - loss: 0.0601 - accuracy: 0.9819\n",
      "Epoch 16/25\n",
      "30/30 [==============================] - 1s 30ms/step - loss: 0.0615 - accuracy: 0.9812\n",
      "Epoch 17/25\n",
      "30/30 [==============================] - 1s 30ms/step - loss: 0.0601 - accuracy: 0.9817\n",
      "Epoch 18/25\n",
      "30/30 [==============================] - 1s 30ms/step - loss: 0.0591 - accuracy: 0.9815\n",
      "Epoch 19/25\n",
      "30/30 [==============================] - 1s 31ms/step - loss: 0.0598 - accuracy: 0.9816\n",
      "Epoch 20/25\n",
      "30/30 [==============================] - 1s 31ms/step - loss: 0.0552 - accuracy: 0.9831\n",
      "Epoch 21/25\n",
      "30/30 [==============================] - 1s 30ms/step - loss: 0.0581 - accuracy: 0.9823\n",
      "Epoch 22/25\n",
      "30/30 [==============================] - 1s 31ms/step - loss: 0.0571 - accuracy: 0.9825\n",
      "Epoch 23/25\n",
      "30/30 [==============================] - 1s 31ms/step - loss: 0.0560 - accuracy: 0.9831\n",
      "Epoch 24/25\n",
      "30/30 [==============================] - 1s 31ms/step - loss: 0.0548 - accuracy: 0.9830\n",
      "Epoch 25/25\n",
      "30/30 [==============================] - 1s 32ms/step - loss: 0.0505 - accuracy: 0.9846\n"
     ]
    },
    {
     "data": {
      "text/plain": [
       "<keras.callbacks.History at 0x195695aabe0>"
      ]
     },
     "execution_count": 22,
     "metadata": {},
     "output_type": "execute_result"
    }
   ],
   "source": [
    "model.fit(\n",
    "    x_train,\n",
    "    y_train, \n",
    "    epochs=25, \n",
    "    batch_size=2000, \n",
    "    validation_split = 0.2\n",
    ")"
   ]
  },
  {
   "cell_type": "code",
   "execution_count": 23,
   "metadata": {},
   "outputs": [
    {
     "name": "stdout",
     "output_type": "stream",
     "text": [
      "test loss, test acc: [0.09582529217004776, 0.9699000120162964]\n"
     ]
    }
   ],
   "source": [
    "results = model.evaluate(x_test,  y_test, verbose = 0)\n",
    "print('test loss, test acc:', results)\n"
   ]
  },
  {
   "cell_type": "code",
   "execution_count": 21,
   "metadata": {},
   "outputs": [
    {
     "name": "stdout",
     "output_type": "stream",
     "text": [
      "{\"class_name\": \"Sequential\", \"config\": {\"name\": \"sequential\", \"layers\": [{\"class_name\": \"InputLayer\", \"config\": {\"batch_input_shape\": [null, 28, 28], \"dtype\": \"float32\", \"sparse\": false, \"ragged\": false, \"name\": \"flatten_input\"}}, {\"class_name\": \"Flatten\", \"config\": {\"name\": \"flatten\", \"trainable\": true, \"batch_input_shape\": [null, 28, 28], \"dtype\": \"float32\", \"data_format\": \"channels_last\"}}, {\"class_name\": \"Dense\", \"config\": {\"name\": \"dense\", \"trainable\": true, \"dtype\": \"float32\", \"units\": 256, \"activation\": \"sigmoid\", \"use_bias\": true, \"kernel_initializer\": {\"class_name\": \"GlorotUniform\", \"config\": {\"seed\": null}}, \"bias_initializer\": {\"class_name\": \"Zeros\", \"config\": {}}, \"kernel_regularizer\": null, \"bias_regularizer\": null, \"activity_regularizer\": null, \"kernel_constraint\": null, \"bias_constraint\": null}}, {\"class_name\": \"Dense\", \"config\": {\"name\": \"dense_1\", \"trainable\": true, \"dtype\": \"float32\", \"units\": 128, \"activation\": \"sigmoid\", \"use_bias\": true, \"kernel_initializer\": {\"class_name\": \"GlorotUniform\", \"config\": {\"seed\": null}}, \"bias_initializer\": {\"class_name\": \"Zeros\", \"config\": {}}, \"kernel_regularizer\": null, \"bias_regularizer\": null, \"activity_regularizer\": null, \"kernel_constraint\": null, \"bias_constraint\": null}}, {\"class_name\": \"Dense\", \"config\": {\"name\": \"dense_2\", \"trainable\": true, \"dtype\": \"float32\", \"units\": 10, \"activation\": \"softmax\", \"use_bias\": true, \"kernel_initializer\": {\"class_name\": \"GlorotUniform\", \"config\": {\"seed\": null}}, \"bias_initializer\": {\"class_name\": \"Zeros\", \"config\": {}}, \"kernel_regularizer\": null, \"bias_regularizer\": null, \"activity_regularizer\": null, \"kernel_constraint\": null, \"bias_constraint\": null}}]}, \"keras_version\": \"2.8.0\", \"backend\": \"tensorflow\"}\n"
     ]
    }
   ],
   "source": [
    "print((model.to_json()))"
   ]
  }
 ],
 "metadata": {
  "interpreter": {
   "hash": "c98ff4d7baf171fb40d17d8c433b5cfa7877c14c548156d9e8d9a9ab27a33882"
  },
  "kernelspec": {
   "display_name": "Python 3.9.6 64-bit ('3.9.6': pyenv)",
   "language": "python",
   "name": "python3"
  },
  "language_info": {
   "codemirror_mode": {
    "name": "ipython",
    "version": 3
   },
   "file_extension": ".py",
   "mimetype": "text/x-python",
   "name": "python",
   "nbconvert_exporter": "python",
   "pygments_lexer": "ipython3",
   "version": "3.9.6"
  },
  "orig_nbformat": 4
 },
 "nbformat": 4,
 "nbformat_minor": 2
}
